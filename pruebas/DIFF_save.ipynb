{
 "cells": [
  {
   "cell_type": "code",
   "execution_count": 1,
   "metadata": {},
   "outputs": [],
   "source": [
    "%load_ext autoreload\n",
    "%autoreload 2\n",
    "\n",
    "import os \n",
    "os.chdir('../generative')"
   ]
  },
  {
   "cell_type": "code",
   "execution_count": 5,
   "metadata": {},
   "outputs": [],
   "source": [
    "import sys\n",
    "sys.path.append(os.path.abspath(\"./model_utils\"))\n",
    "from model_utils.diffusion_utils import calc_diffusion_hyperparams"
   ]
  },
  {
   "cell_type": "code",
   "execution_count": 11,
   "metadata": {},
   "outputs": [],
   "source": [
    "from sampling.sampling_utils import get_diffusion_sample\n",
    "import torch\n",
    "import json"
   ]
  },
  {
   "cell_type": "code",
   "execution_count": 15,
   "metadata": {},
   "outputs": [],
   "source": [
    "model_name = 'DIFFUSION'\n",
    "n_samples = 1\n",
    "device = \"cuda\" if torch.cuda.is_available() else \"cpu\"\n",
    "\n",
    "with open('./config.json', 'r') as f:\n",
    "    config = json.load(f)\n",
    "\n",
    "sr = 16000"
   ]
  },
  {
   "cell_type": "code",
   "execution_count": 17,
   "metadata": {},
   "outputs": [
    {
     "name": "stdout",
     "output_type": "stream",
     "text": [
      "begin sampling, total number of reverse steps = 200\n"
     ]
    },
    {
     "name": "stderr",
     "output_type": "stream",
     "text": [
      "Reverse process: 100%|██████████| 200/200 [13:07<00:00,  3.94s/it]\n"
     ]
    }
   ],
   "source": [
    "diffusion_config = config['diffusion_config']\n",
    "diffusion_hyperparams = calc_diffusion_hyperparams(**diffusion_config)\n",
    "model = torch.load(f'{model_name}_model.pth').to(device)\n",
    "\n",
    "samples = get_diffusion_sample(model, (n_samples, 1, sr), diffusion_hyperparams)"
   ]
  },
  {
   "cell_type": "code",
   "execution_count": 21,
   "metadata": {},
   "outputs": [],
   "source": [
    "if os.path.exists(generation_folder):\n",
    "    shutil.rmtree(generation_folder)\n",
    "    os.makedirs(generation_folder)\n",
    "else:\n",
    "    os.makedirs(generation_folder)"
   ]
  },
  {
   "cell_type": "code",
   "execution_count": 22,
   "metadata": {},
   "outputs": [],
   "source": [
    "import soundfile as sf\n",
    "folder_generated_data = '../data/'\n",
    "generation_folder = f'{folder_generated_data}/generated/{model_name}'\n",
    "for n, s in enumerate(samples):\n",
    "    s = s[0]\n",
    "    to_save_audio = sf.write(f'{generation_folder}/gen_{n}.wav', s, sr)"
   ]
  }
 ],
 "metadata": {
  "kernelspec": {
   "display_name": "myenv",
   "language": "python",
   "name": "python3"
  },
  "language_info": {
   "codemirror_mode": {
    "name": "ipython",
    "version": 3
   },
   "file_extension": ".py",
   "mimetype": "text/x-python",
   "name": "python",
   "nbconvert_exporter": "python",
   "pygments_lexer": "ipython3",
   "version": "3.11.5"
  }
 },
 "nbformat": 4,
 "nbformat_minor": 2
}
