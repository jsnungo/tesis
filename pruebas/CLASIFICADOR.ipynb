{
 "cells": [
  {
   "cell_type": "code",
   "execution_count": 1,
   "metadata": {},
   "outputs": [],
   "source": [
    "%load_ext autoreload\n",
    "%autoreload 2"
   ]
  },
  {
   "cell_type": "code",
   "execution_count": 2,
   "metadata": {},
   "outputs": [],
   "source": [
    "import os\n",
    "colab = False\n",
    "\n",
    "if colab:\n",
    "    from google.colab import drive\n",
    "    drive.mount('/content/drive')\n",
    "    os.chdir('/content/drive/MyDrive/Tesis/tesis/classificador')\n",
    "else:\n",
    "    os.chdir('../classificador')"
   ]
  },
  {
   "cell_type": "code",
   "execution_count": 3,
   "metadata": {},
   "outputs": [],
   "source": [
    "from datasets.speech_commands_dataset import *\n",
    "from transforms import transforms_wav as twav\n",
    "from transforms import transforms_stft as tstft\n",
    "from torchvision.transforms import *"
   ]
  },
  {
   "cell_type": "code",
   "execution_count": 4,
   "metadata": {},
   "outputs": [],
   "source": [
    "background_noise = 'datasets/_background_noise_'\n",
    "n_mels = 32"
   ]
  },
  {
   "cell_type": "code",
   "execution_count": 5,
   "metadata": {},
   "outputs": [],
   "source": [
    "data_aug_transform = Compose([\n",
    "    twav.ChangeAmplitude(), \n",
    "    twav.ChangeSpeedAndPitchAudio(), \n",
    "    twav.FixAudioLength(), \n",
    "    tstft.ToSTFT(), \n",
    "    tstft.StretchAudioOnSTFT(), \n",
    "    tstft.TimeshiftAudioOnSTFT(), \n",
    "    tstft.FixSTFTDimension()])\n",
    "bg_dataset = BackgroundNoiseDataset(background_noise, data_aug_transform)\n",
    "add_bg_noise = tstft.AddBackgroundNoiseOnSTFT(bg_dataset)\n",
    "train_feature_transform = Compose([\n",
    "    tstft.ToMelSpectrogramFromSTFT(n_mels=n_mels), \n",
    "    tstft.DeleteSTFT(), \n",
    "    twav.ToTensor('mel_spectrogram', 'input')])"
   ]
  },
  {
   "cell_type": "code",
   "execution_count": 8,
   "metadata": {},
   "outputs": [],
   "source": [
    "train_dataset = SpeechCommandsDataset('../data/classifier/train.csv',\n",
    "                                Compose([twav.LoadAudio(),\n",
    "                                         data_aug_transform,\n",
    "                                         add_bg_noise,\n",
    "                                         train_feature_transform]))"
   ]
  },
  {
   "cell_type": "code",
   "execution_count": 11,
   "metadata": {},
   "outputs": [
    {
     "data": {
      "text/plain": [
       "['OTHER', 'BOAFAB']"
      ]
     },
     "execution_count": 11,
     "metadata": {},
     "output_type": "execute_result"
    }
   ],
   "source": [
    "train_dataset.classes"
   ]
  },
  {
   "cell_type": "code",
   "execution_count": 16,
   "metadata": {},
   "outputs": [
    {
     "data": {
      "text/plain": [
       "1\n",
       "1    0.505332\n",
       "0    0.494668\n",
       "Name: proportion, dtype: float64"
      ]
     },
     "execution_count": 16,
     "metadata": {},
     "output_type": "execute_result"
    }
   ],
   "source": [
    "import pandas as pd\n",
    "pd.DataFrame(train_dataset.data)[1].value_counts(True)"
   ]
  }
 ],
 "metadata": {
  "kernelspec": {
   "display_name": "myenv",
   "language": "python",
   "name": "python3"
  },
  "language_info": {
   "codemirror_mode": {
    "name": "ipython",
    "version": 3
   },
   "file_extension": ".py",
   "mimetype": "text/x-python",
   "name": "python",
   "nbconvert_exporter": "python",
   "pygments_lexer": "ipython3",
   "version": "3.11.5"
  }
 },
 "nbformat": 4,
 "nbformat_minor": 2
}
