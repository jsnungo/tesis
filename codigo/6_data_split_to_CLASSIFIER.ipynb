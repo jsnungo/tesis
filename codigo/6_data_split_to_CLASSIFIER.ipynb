{
 "cells": [
  {
   "cell_type": "code",
   "execution_count": 1,
   "metadata": {},
   "outputs": [],
   "source": [
    "import os\n",
    "os.chdir('../data')"
   ]
  },
  {
   "cell_type": "code",
   "execution_count": 2,
   "metadata": {},
   "outputs": [],
   "source": [
    "import pandas as pd"
   ]
  },
  {
   "cell_type": "code",
   "execution_count": 3,
   "metadata": {},
   "outputs": [],
   "source": [
    "classes = os.listdir('train_gen')\n",
    "\n",
    "df = pd.DataFrame(columns=['file', 'class'])"
   ]
  },
  {
   "cell_type": "code",
   "execution_count": 4,
   "metadata": {},
   "outputs": [],
   "source": [
    "for c in classes:\n",
    "    temp_df = pd.DataFrame(columns=['file', 'class'])\n",
    "    temp_df['file'] = list(map(lambda x: f'train_gen/{c}/{x}', os.listdir(f'train_gen/{c}')))\n",
    "    temp_df['class'] = c\n",
    "\n",
    "    df = pd.concat([df, temp_df], ignore_index=True)"
   ]
  },
  {
   "cell_type": "code",
   "execution_count": 5,
   "metadata": {},
   "outputs": [
    {
     "data": {
      "text/html": [
       "<div>\n",
       "<style scoped>\n",
       "    .dataframe tbody tr th:only-of-type {\n",
       "        vertical-align: middle;\n",
       "    }\n",
       "\n",
       "    .dataframe tbody tr th {\n",
       "        vertical-align: top;\n",
       "    }\n",
       "\n",
       "    .dataframe thead th {\n",
       "        text-align: right;\n",
       "    }\n",
       "</style>\n",
       "<table border=\"1\" class=\"dataframe\">\n",
       "  <thead>\n",
       "    <tr style=\"text-align: right;\">\n",
       "      <th></th>\n",
       "      <th>file</th>\n",
       "      <th>class</th>\n",
       "    </tr>\n",
       "  </thead>\n",
       "  <tbody>\n",
       "    <tr>\n",
       "      <th>0</th>\n",
       "      <td>train_gen/BOAFAB/1485_0_FNJV_0040072_Boana_fab...</td>\n",
       "      <td>BOAFAB</td>\n",
       "    </tr>\n",
       "    <tr>\n",
       "      <th>1</th>\n",
       "      <td>train_gen/BOAFAB/1485_1_FNJV_0040072_Boana_fab...</td>\n",
       "      <td>BOAFAB</td>\n",
       "    </tr>\n",
       "    <tr>\n",
       "      <th>2</th>\n",
       "      <td>train_gen/BOAFAB/1485_2_FNJV_0040072_Boana_fab...</td>\n",
       "      <td>BOAFAB</td>\n",
       "    </tr>\n",
       "    <tr>\n",
       "      <th>3</th>\n",
       "      <td>train_gen/BOAFAB/1485_3_FNJV_0040072_Boana_fab...</td>\n",
       "      <td>BOAFAB</td>\n",
       "    </tr>\n",
       "    <tr>\n",
       "      <th>4</th>\n",
       "      <td>train_gen/BOAFAB/1485_4_FNJV_0040072_Boana_fab...</td>\n",
       "      <td>BOAFAB</td>\n",
       "    </tr>\n",
       "    <tr>\n",
       "      <th>...</th>\n",
       "      <td>...</td>\n",
       "      <td>...</td>\n",
       "    </tr>\n",
       "    <tr>\n",
       "      <th>28998</th>\n",
       "      <td>train_gen/OTHER/4126_24_1577-D.cruzi.wav</td>\n",
       "      <td>OTHER</td>\n",
       "    </tr>\n",
       "    <tr>\n",
       "      <th>28999</th>\n",
       "      <td>train_gen/OTHER/4126_25_1577-D.cruzi.wav</td>\n",
       "      <td>OTHER</td>\n",
       "    </tr>\n",
       "    <tr>\n",
       "      <th>29000</th>\n",
       "      <td>train_gen/OTHER/4126_26_1577-D.cruzi.wav</td>\n",
       "      <td>OTHER</td>\n",
       "    </tr>\n",
       "    <tr>\n",
       "      <th>29001</th>\n",
       "      <td>train_gen/OTHER/4126_27_1577-D.cruzi.wav</td>\n",
       "      <td>OTHER</td>\n",
       "    </tr>\n",
       "    <tr>\n",
       "      <th>29002</th>\n",
       "      <td>train_gen/OTHER/4126_28_1577-D.cruzi.wav</td>\n",
       "      <td>OTHER</td>\n",
       "    </tr>\n",
       "  </tbody>\n",
       "</table>\n",
       "<p>29003 rows × 2 columns</p>\n",
       "</div>"
      ],
      "text/plain": [
       "                                                    file   class\n",
       "0      train_gen/BOAFAB/1485_0_FNJV_0040072_Boana_fab...  BOAFAB\n",
       "1      train_gen/BOAFAB/1485_1_FNJV_0040072_Boana_fab...  BOAFAB\n",
       "2      train_gen/BOAFAB/1485_2_FNJV_0040072_Boana_fab...  BOAFAB\n",
       "3      train_gen/BOAFAB/1485_3_FNJV_0040072_Boana_fab...  BOAFAB\n",
       "4      train_gen/BOAFAB/1485_4_FNJV_0040072_Boana_fab...  BOAFAB\n",
       "...                                                  ...     ...\n",
       "28998           train_gen/OTHER/4126_24_1577-D.cruzi.wav   OTHER\n",
       "28999           train_gen/OTHER/4126_25_1577-D.cruzi.wav   OTHER\n",
       "29000           train_gen/OTHER/4126_26_1577-D.cruzi.wav   OTHER\n",
       "29001           train_gen/OTHER/4126_27_1577-D.cruzi.wav   OTHER\n",
       "29002           train_gen/OTHER/4126_28_1577-D.cruzi.wav   OTHER\n",
       "\n",
       "[29003 rows x 2 columns]"
      ]
     },
     "execution_count": 5,
     "metadata": {},
     "output_type": "execute_result"
    }
   ],
   "source": [
    "df"
   ]
  },
  {
   "cell_type": "code",
   "execution_count": 6,
   "metadata": {},
   "outputs": [],
   "source": [
    "from sklearn.model_selection import train_test_split\n",
    "train, test = train_test_split(df, test_size=0.2, stratify=df['class'], random_state=42)\n",
    "train, val = train_test_split(train, test_size=0.2, stratify=train['class'], random_state=42)"
   ]
  },
  {
   "cell_type": "code",
   "execution_count": 7,
   "metadata": {},
   "outputs": [],
   "source": [
    "train.to_csv('../data/classifier/train.csv')\n",
    "test.to_csv('../data/classifier/test.csv')\n",
    "val.to_csv('../data/classifier/val.csv')"
   ]
  }
 ],
 "metadata": {
  "kernelspec": {
   "display_name": "myenv",
   "language": "python",
   "name": "python3"
  },
  "language_info": {
   "codemirror_mode": {
    "name": "ipython",
    "version": 3
   },
   "file_extension": ".py",
   "mimetype": "text/x-python",
   "name": "python",
   "nbconvert_exporter": "python",
   "pygments_lexer": "ipython3",
   "version": "3.11.5"
  }
 },
 "nbformat": 4,
 "nbformat_minor": 2
}
